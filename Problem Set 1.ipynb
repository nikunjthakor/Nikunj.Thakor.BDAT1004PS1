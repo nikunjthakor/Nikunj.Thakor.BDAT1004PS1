{
 "cells": [
  {
   "cell_type": "markdown",
   "id": "d9848a4d",
   "metadata": {},
   "source": [
    "# Question 1\n",
    "## What data type is each of the following (evaluate where necessary)?"
   ]
  },
  {
   "cell_type": "code",
   "execution_count": 1,
   "id": "b38fe8b0",
   "metadata": {},
   "outputs": [
    {
     "name": "stdout",
     "output_type": "stream",
     "text": [
      "<class 'int'>\n",
      "<class 'float'>\n",
      "<class 'bool'>\n",
      "<class 'str'>\n",
      "<class 'int'>\n",
      "<class 'str'>\n",
      "<class 'str'>\n",
      "<class 'float'>\n",
      "<class 'int'>\n",
      "<class 'set'>\n",
      "<class 'bool'>\n",
      "<class 'float'>\n"
     ]
    }
   ],
   "source": [
    "print(type(5))  \n",
    "print(type(5.0))  \n",
    "print(type(5 > 1))  \n",
    "print(type('5'))  \n",
    "print(type(5 * 2))  \n",
    "print(type('5' * 2))  \n",
    "print(type('5' + '2')) \n",
    "print(type(5 / 2)) \n",
    "print(type(5 % 2))  \n",
    "print(type({5, 2, 1}))  \n",
    "print(type(5 == 3))\n",
    "import math\n",
    "print(type(math.pi)) "
   ]
  },
  {
   "cell_type": "markdown",
   "id": "a1f9728f",
   "metadata": {},
   "source": [
    "# Question 2\n",
    "\n",
    "### a. How many letters are there in 'Supercalifragilisticexpialidocious'?"
   ]
  },
  {
   "cell_type": "code",
   "execution_count": 2,
   "id": "bb95c259",
   "metadata": {},
   "outputs": [
    {
     "name": "stdout",
     "output_type": "stream",
     "text": [
      "34\n"
     ]
    }
   ],
   "source": [
    "Text = 'Supercalifragilisticexpialidocious'\n",
    "Count_value = len(Text)\n",
    "print(Count_value)"
   ]
  },
  {
   "cell_type": "markdown",
   "id": "63e19842",
   "metadata": {},
   "source": [
    "### b. Does 'Supercalifragilisticexpialidocious' contain 'ice' as a substring?"
   ]
  },
  {
   "cell_type": "code",
   "execution_count": 3,
   "id": "451691c3",
   "metadata": {},
   "outputs": [
    {
     "name": "stdout",
     "output_type": "stream",
     "text": [
      "True\n"
     ]
    }
   ],
   "source": [
    "Sub ='ice'\n",
    "value = Sub in Text\n",
    "print(value)"
   ]
  },
  {
   "cell_type": "markdown",
   "id": "1b54eb9a",
   "metadata": {},
   "source": [
    "### c. Which of the following words is the longest: Supercalifragilisticexpialidocious, Honorificabilitudinitatibus, or Bababadalgharaghtakamminarronnkonn?"
   ]
  },
  {
   "cell_type": "code",
   "execution_count": 4,
   "id": "b98faae9",
   "metadata": {},
   "outputs": [
    {
     "name": "stdout",
     "output_type": "stream",
     "text": [
      "Supercalifragilisticexpialidocious\n"
     ]
    }
   ],
   "source": [
    "values = ['Supercalifragilisticexpialidocious','Honorificabilitudinitatibus','Bababadalgharaghtakamminarronnkonn']\n",
    "longest = max(values,key=len)\n",
    "print(longest)"
   ]
  },
  {
   "cell_type": "markdown",
   "id": "2f9bf57a",
   "metadata": {},
   "source": [
    "### d. Which composer comes first in the dictionary: 'Berlioz', 'Borodin', 'Brian', 'Bartok', 'Bellini', 'Buxtehude', 'Bernstein'. Which one comes last?"
   ]
  },
  {
   "cell_type": "code",
   "execution_count": 5,
   "id": "0f076e9f",
   "metadata": {},
   "outputs": [
    {
     "name": "stdout",
     "output_type": "stream",
     "text": [
      "The First composer: Bartok\n",
      "The Last composer: Buxtehude\n"
     ]
    }
   ],
   "source": [
    "words = ['Berlioz', 'Borodin', 'Brian', 'Bartok', 'Bellini', 'Buxtehude', 'Bernstein']\n",
    "first = min(words)\n",
    "last = max(words)\n",
    "print('The First composer:', first)\n",
    "print('The Last composer:', last)"
   ]
  },
  {
   "cell_type": "markdown",
   "id": "18490920",
   "metadata": {},
   "source": [
    "# Question 3\n",
    "\n",
    "### Implement function triangleArea(a,b,c) that takes as input the lengths of the 3 sides of a triangle and returns the area of the triangle. By Heron's formula, the area of a triangle with side lengths a, b, and c is s(s - a)(s -b)(s -c), where s = (a +b + c) /2."
   ]
  },
  {
   "cell_type": "code",
   "execution_count": 6,
   "id": "f98df72f",
   "metadata": {},
   "outputs": [
    {
     "data": {
      "text/plain": [
       "1.7320508075688772"
      ]
     },
     "execution_count": 6,
     "metadata": {},
     "output_type": "execute_result"
    }
   ],
   "source": [
    "def triangleArea(a, b, c):\n",
    "    s = (a + b + c) / 2\n",
    "    Area = math.sqrt(s * (s - a) * (s - b) * (s - c))\n",
    "    \n",
    "    return Area\n",
    "\n",
    "triangleArea(2,2,2)"
   ]
  },
  {
   "cell_type": "markdown",
   "id": "259d5605",
   "metadata": {},
   "source": [
    "# Question 4\n",
    "\n",
    "### Write a program in python to separate odd and even integers in separate arrays."
   ]
  },
  {
   "cell_type": "code",
   "execution_count": 7,
   "id": "ada1d59a",
   "metadata": {},
   "outputs": [
    {
     "name": "stdout",
     "output_type": "stream",
     "text": [
      "Input the number of elements to be stored in the array : 5\n",
      "Element - 0: 2033\n",
      "Element - 1: 2022\n",
      "Element - 2: 201\n",
      "Element - 3: 777\n",
      "Element - 4: 98\n",
      "The Even elements are: 2022 98\n",
      "The Odd elements are : 2033 201 777\n"
     ]
    }
   ],
   "source": [
    "Num = int(input(\"Input the number of elements to be stored in the array : \"))\n",
    "Elements = []\n",
    "for i in range(Num):\n",
    "    X = int(input(\"Element - {}: \".format(i)))\n",
    "    Elements.append(X)\n",
    "\n",
    "odds,evens = [],[]\n",
    "\n",
    "for element in Elements:\n",
    "    if element % 2 == 0:\n",
    "        evens.append(element)\n",
    "    else:\n",
    "        odds.append(element)\n",
    "\n",
    "\n",
    "print(\"The Even elements are:\", ' '.join(map(str, evens)))\n",
    "print(\"The Odd elements are :\", ' '.join(map(str, odds)))"
   ]
  },
  {
   "cell_type": "markdown",
   "id": "9972f465",
   "metadata": {},
   "source": [
    "# Question 5\n",
    "\n",
    "### a. Write a function inside(x,y,x1,y1,x2,y2) that returns True or False depending on whether the point (x,y) lies in the rectangle with lower left corner (x1,y1) and upper right corner (x2,y2)."
   ]
  },
  {
   "cell_type": "code",
   "execution_count": 8,
   "id": "1ffe3b2c",
   "metadata": {},
   "outputs": [],
   "source": [
    "def inside(x, y, x1, y1, x2, y2):\n",
    "    if x1 <= x <= x2 and y1 <= y <= y2:\n",
    "        return True\n",
    "    else:\n",
    "        return False"
   ]
  },
  {
   "cell_type": "code",
   "execution_count": 9,
   "id": "044a02e1",
   "metadata": {},
   "outputs": [
    {
     "name": "stdout",
     "output_type": "stream",
     "text": [
      "True\n"
     ]
    }
   ],
   "source": [
    "print(inside(1, 1, 0, 0, 2, 3))  "
   ]
  },
  {
   "cell_type": "code",
   "execution_count": 10,
   "id": "d79ea9d4",
   "metadata": {},
   "outputs": [
    {
     "name": "stdout",
     "output_type": "stream",
     "text": [
      "False\n"
     ]
    }
   ],
   "source": [
    "print(inside(-1, -1, 0, 0, 2, 3))"
   ]
  },
  {
   "cell_type": "markdown",
   "id": "8269c648",
   "metadata": {},
   "source": [
    "### b. Use function inside() from part a. to write an expression that tests whether the point (1,1) lies in both of the following rectangles: one with lower left corner (0.3, 0.5) and upper right corner (1.1, 0.7) and the other with lower left corner (0.5, 0.2) and upper right corner (1.1, 2)."
   ]
  },
  {
   "cell_type": "code",
   "execution_count": 11,
   "id": "a2093534",
   "metadata": {},
   "outputs": [
    {
     "name": "stdout",
     "output_type": "stream",
     "text": [
      "The point (1, 1) does not lie in both rectangles.\n"
     ]
    }
   ],
   "source": [
    "rect1 = inside(1, 1, 0.3, 0.5, 1.1, 0.7)\n",
    "rect2 = inside(1, 1, 0.5, 0.2, 1.1, 2)\n",
    "\n",
    "if rect1 and rect2:\n",
    "    print(\"The point (1, 1) lies in both rectangles.\")\n",
    "else:\n",
    "    print(\"The point (1, 1) does not lie in both rectangles.\")"
   ]
  },
  {
   "cell_type": "markdown",
   "id": "c0a881bb",
   "metadata": {},
   "source": [
    "# Question 6"
   ]
  },
  {
   "cell_type": "markdown",
   "id": "ff41dcb7",
   "metadata": {},
   "source": [
    "### You can turn a word into pig-Latin using the following two rules (simplified):\n",
    "### • If the word starts with a consonant, move that letter to the end and append 'ay'. For example, 'happy' becomes 'appyhay' and 'pencil' becomes 'encilpay'.\n",
    "### • If the word starts with a vowel, simply append 'way' to the end of the word. For example, 'enter' becomes 'enterway' and 'other' becomes 'otherway' . For our purposes, there are 5 vowels: a, e, i, o, u (so we count y as a consonant).\n",
    "### Write a function pig() that takes a word (i.e., a string) as input and returns its pig-Latin form. Your function should still work if the input word contains upper case characters. Your output should always be lower case however."
   ]
  },
  {
   "cell_type": "code",
   "execution_count": 12,
   "id": "d157456b",
   "metadata": {},
   "outputs": [
    {
     "name": "stdout",
     "output_type": "stream",
     "text": [
      "appyhay\n"
     ]
    }
   ],
   "source": [
    "def pig(text):\n",
    "    V = ['a', 'e', 'i', 'o', 'u'] #Vowels\n",
    "    \n",
    "    text = text.lower() \n",
    "    \n",
    "    if text[0] in V:\n",
    "        final_value = text + 'way'\n",
    "    else:\n",
    "        final_value = text[1:] + text[0] + 'ay'\n",
    "    \n",
    "    return final_value\n",
    "\n",
    "print(pig('happy'))"
   ]
  },
  {
   "cell_type": "code",
   "execution_count": 13,
   "id": "670ea3f3",
   "metadata": {},
   "outputs": [
    {
     "name": "stdout",
     "output_type": "stream",
     "text": [
      "enterway\n"
     ]
    }
   ],
   "source": [
    "print(pig('Enter'))"
   ]
  },
  {
   "cell_type": "markdown",
   "id": "7675aadb",
   "metadata": {},
   "source": [
    "# Question 7"
   ]
  },
  {
   "cell_type": "markdown",
   "id": "7fbbbbc2",
   "metadata": {},
   "source": [
    "### File bloodtype1.txt records blood-types of patients (A, B, AB, O or OO) at a clinic. Write a function bldcount() that reads the file with name name and reports (i.e., prints) how many patients there are in each bloodtype."
   ]
  },
  {
   "cell_type": "code",
   "execution_count": 14,
   "id": "2019bb85",
   "metadata": {
    "scrolled": true
   },
   "outputs": [
    {
     "name": "stdout",
     "output_type": "stream",
     "text": [
      "There are 15 patients of blood type A.\n",
      "There is one patient of blood type B.\n",
      "There are 13 patients of blood type AB.\n",
      "There are 15 patients of blood type O.\n",
      "There are no patients of blood type OO.\n"
     ]
    }
   ],
   "source": [
    "def bldcount(file_name):\n",
    "    b_types = ['A', 'B', 'AB', 'O', 'OO']\n",
    "    count = [0] * len(b_types)\n",
    "\n",
    "    with open(file_name, 'r') as file:\n",
    "        lines = file.readlines()\n",
    "        for line in lines:\n",
    "            \n",
    "            words = line.split()\n",
    "            for word in words:\n",
    "               # print(word)\n",
    "                if word in b_types:\n",
    "                    index = b_types.index(word)\n",
    "                   # print(f\"{w} on {index}.\")\n",
    "                    count[index] += 1\n",
    "#                     print(count)\n",
    "            \n",
    "\n",
    "    for i, b_type in enumerate(b_types):\n",
    "        if count[i] == 1:\n",
    "            print(f\"There is one patient of blood type {b_type}.\")\n",
    "        elif count[i] > 1:\n",
    "            print(f\"There are {count[i]} patients of blood type {b_type}.\")\n",
    "        else:\n",
    "            print(f\"There are no patients of blood type {b_type}.\")\n",
    "            \n",
    "\n",
    "bldcount('bloodtype1.txt')\n"
   ]
  },
  {
   "cell_type": "markdown",
   "id": "3829ea08",
   "metadata": {},
   "source": [
    "# Question 8"
   ]
  },
  {
   "cell_type": "markdown",
   "id": "a0ce226e",
   "metadata": {},
   "source": [
    "### Write a function curconv() that takes as input:\n",
    "### 1. a currency represented using a string (e.g., 'JPY' for the Japanese Yen or 'EUR' for the Euro)\n",
    "### 2. an amount\n",
    "### and then converts and returns the amount in US dollars."
   ]
  },
  {
   "cell_type": "code",
   "execution_count": 15,
   "id": "a6499861",
   "metadata": {},
   "outputs": [
    {
     "name": "stdout",
     "output_type": "stream",
     "text": [
      "122.96544\n"
     ]
    }
   ],
   "source": [
    "def curconv(currency, amount):\n",
    "    with open('currencies.txt', 'r') as file:\n",
    "        lines = file.readlines()\n",
    "        for line in lines:\n",
    "            parts = line.split()\n",
    "            if parts[0] == currency:\n",
    "                conversion_rate = float(parts[1])\n",
    "                converted_amount = amount * conversion_rate\n",
    "                return converted_amount\n",
    "            \n",
    "print(curconv('EUR', 100)) "
   ]
  },
  {
   "cell_type": "code",
   "execution_count": 16,
   "id": "bfc6b7ac",
   "metadata": {},
   "outputs": [
    {
     "name": "stdout",
     "output_type": "stream",
     "text": [
      "1.241401\n"
     ]
    }
   ],
   "source": [
    "print(curconv('JPY', 100)) "
   ]
  },
  {
   "cell_type": "code",
   "execution_count": 17,
   "id": "474e7b32",
   "metadata": {},
   "outputs": [
    {
     "name": "stdout",
     "output_type": "stream",
     "text": [
      "2.3323400000000003\n"
     ]
    }
   ],
   "source": [
    "print(curconv('PHP', 100))"
   ]
  },
  {
   "cell_type": "markdown",
   "id": "d936bfec",
   "metadata": {},
   "source": [
    "# Question 9"
   ]
  },
  {
   "cell_type": "markdown",
   "id": "98cc02af",
   "metadata": {},
   "source": [
    "### Trying to add incompatible variables, as in adding 6 + ‘a’"
   ]
  },
  {
   "cell_type": "code",
   "execution_count": 18,
   "id": "d0d91c33",
   "metadata": {},
   "outputs": [
    {
     "name": "stdout",
     "output_type": "stream",
     "text": [
      "Exception: unsupported operand type(s) for +: 'int' and 'str'\n"
     ]
    }
   ],
   "source": [
    "try:\n",
    "    result = 6 + 'a'\n",
    "except TypeError as e:\n",
    "    print(f\"Exception: {e}\")\n"
   ]
  },
  {
   "cell_type": "markdown",
   "id": "a4e48f3d",
   "metadata": {},
   "source": [
    "### Referring to the 12th item of a list that has only 10 items"
   ]
  },
  {
   "cell_type": "code",
   "execution_count": 19,
   "id": "d02cc643",
   "metadata": {},
   "outputs": [
    {
     "name": "stdout",
     "output_type": "stream",
     "text": [
      "Exception: list index out of range\n"
     ]
    }
   ],
   "source": [
    "X = ['N','I','K','U','N','J','G','A','M','E']\n",
    "\n",
    "try:\n",
    "    item = X[12]\n",
    "    print(item)\n",
    "except IndexError as e:\n",
    "    print(f\"Exception: {e}\")\n"
   ]
  },
  {
   "cell_type": "markdown",
   "id": "d4a8bc0c",
   "metadata": {},
   "source": [
    "### Using a value that is out of range for a function’s input, such as calling math.sqrt(-1.0) "
   ]
  },
  {
   "cell_type": "code",
   "execution_count": 20,
   "id": "a28074a4",
   "metadata": {},
   "outputs": [
    {
     "name": "stdout",
     "output_type": "stream",
     "text": [
      "Exception: math domain error\n"
     ]
    }
   ],
   "source": [
    "import math\n",
    "\n",
    "try:\n",
    "    result = math.sqrt(-1.0)\n",
    "except ValueError as e:\n",
    "    print(f\"Exception: {e}\")"
   ]
  },
  {
   "cell_type": "markdown",
   "id": "dfcd4f5f",
   "metadata": {},
   "source": [
    "### Using an undeclared variable, such as print(x) when x has not been defined"
   ]
  },
  {
   "cell_type": "code",
   "execution_count": 21,
   "id": "3cbc747e",
   "metadata": {},
   "outputs": [
    {
     "name": "stdout",
     "output_type": "stream",
     "text": [
      "Exception: name 'x' is not defined\n"
     ]
    }
   ],
   "source": [
    "try:\n",
    "    print(x)\n",
    "except NameError as e:\n",
    "    print(f\"Exception: {e}\")\n"
   ]
  },
  {
   "cell_type": "markdown",
   "id": "2aa43dca",
   "metadata": {},
   "source": [
    "### Trying to open a file that does not exist, such as mistyping the file name or looking in the wrong directory."
   ]
  },
  {
   "cell_type": "code",
   "execution_count": 22,
   "id": "69d2ff63",
   "metadata": {},
   "outputs": [
    {
     "name": "stdout",
     "output_type": "stream",
     "text": [
      "Exception: [Errno 2] No such file or directory: 'data_programming.txt'\n"
     ]
    }
   ],
   "source": [
    "try:\n",
    "    with open('data_programming.txt', 'r') as file:\n",
    "        content = file.read()\n",
    "except FileNotFoundError as e:\n",
    "    print(f\"Exception: {e}\")"
   ]
  },
  {
   "cell_type": "markdown",
   "id": "030b088f",
   "metadata": {},
   "source": [
    "# Question 10\n",
    "\n",
    "### Encryption is the process of hiding the meaning of a text by substituting letters in the message with other letters, according to some system. If the process is successful, no one but the intended recipient can understand the encrypted message. Cryptanalysis refers to attempts to undo the encryption, even if some details of the encryption are unknown (for example, if an encrypted message has been intercepted). The first step of cryptanalysis is often to build up a table of letter frequencies in the encrypted text. Assume that the string letters is already defined as 'abcdefghijklmnopqrstuvwxyz'. Write a function called frequencies() that takes a string as its only parameter, and returns a list of integers, showing the number of times each character appears in the text. Your function may ignore any characters that are not in letters."
   ]
  },
  {
   "cell_type": "code",
   "execution_count": 23,
   "id": "8eed9efa",
   "metadata": {},
   "outputs": [],
   "source": [
    "def frequencies(text):\n",
    "    letters = 'abcdefghijklmnopqrstuvwxyz'\n",
    "    counts = [0] * len(letters)\n",
    "\n",
    "    for c in text:\n",
    "        c = c.lower()\n",
    "        if c in letters:\n",
    "            i = letters.index(c)\n",
    "            counts[i] += 1\n",
    "\n",
    "    return counts"
   ]
  },
  {
   "cell_type": "code",
   "execution_count": 24,
   "id": "d28c62a3",
   "metadata": {},
   "outputs": [
    {
     "name": "stdout",
     "output_type": "stream",
     "text": [
      "[1, 1, 1, 3, 5, 1, 1, 2, 1, 0, 1, 0, 1, 2, 4, 0, 1, 2, 0, 3, 1, 0, 1, 1, 0, 0]\n",
      "[1, 0, 0, 0, 1, 0, 0, 0, 0, 0, 0, 1, 0, 0, 0, 2, 0, 0, 0, 0, 0, 0, 0, 0, 0, 0]\n"
     ]
    }
   ],
   "source": [
    "print(frequencies('The quick red fox got bored and went home.'))\n",
    "print(frequencies('apple'))"
   ]
  },
  {
   "cell_type": "code",
   "execution_count": null,
   "id": "c24fafcc",
   "metadata": {},
   "outputs": [],
   "source": []
  }
 ],
 "metadata": {
  "kernelspec": {
   "display_name": "Python 3",
   "language": "python",
   "name": "python3"
  },
  "language_info": {
   "codemirror_mode": {
    "name": "ipython",
    "version": 3
   },
   "file_extension": ".py",
   "mimetype": "text/x-python",
   "name": "python",
   "nbconvert_exporter": "python",
   "pygments_lexer": "ipython3",
   "version": "3.8.8"
  }
 },
 "nbformat": 4,
 "nbformat_minor": 5
}
